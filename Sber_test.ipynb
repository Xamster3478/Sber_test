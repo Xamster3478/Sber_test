{
 "cells": [
  {
   "cell_type": "code",
   "execution_count": 1,
   "metadata": {},
   "outputs": [
    {
     "name": "stdout",
     "output_type": "stream",
     "text": [
      "Country: Uzbekistan, Population: 34232050\n",
      "Country: Russia, Population: 144104080\n"
     ]
    }
   ],
   "source": [
    "import requests\n",
    "\n",
    "url = \"https://restcountries.com/v3.1/all\"\n",
    "\n",
    "response = requests.get(url)\n",
    "countries = response.json()\n",
    "\n",
    "\n",
    "total_population = sum(country.get('population', 0) for country in countries)\n",
    "average_population = total_population / len(countries)\n",
    "\n",
    "filtered_countries = []\n",
    "for country in countries:\n",
    "    population = country.get('population', 0)\n",
    "    languages = country.get('languages', {})\n",
    "    \n",
    "    if 'Russian' in languages.values() and population > average_population:\n",
    "        country_name = country.get('name', {}).get('common', 'Unknown')\n",
    "        filtered_countries.append({'name': country_name, 'population': population})\n",
    "\n",
    "    \n",
    "for country in filtered_countries:\n",
    "    print(f\"Country: {country['name']}, Population: {country['population']}\")\n",
    "\n"
   ]
  }
 ],
 "metadata": {
  "kernelspec": {
   "display_name": "Python 3",
   "language": "python",
   "name": "python3"
  },
  "language_info": {
   "codemirror_mode": {
    "name": "ipython",
    "version": 3
   },
   "file_extension": ".py",
   "mimetype": "text/x-python",
   "name": "python",
   "nbconvert_exporter": "python",
   "pygments_lexer": "ipython3",
   "version": "3.12.1"
  }
 },
 "nbformat": 4,
 "nbformat_minor": 2
}
